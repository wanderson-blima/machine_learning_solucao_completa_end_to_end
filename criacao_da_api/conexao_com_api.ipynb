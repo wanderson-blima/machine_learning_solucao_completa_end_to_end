{
 "cells": [
  {
   "attachments": {},
   "cell_type": "markdown",
   "metadata": {},
   "source": [
    "## Sistema de conexão com a API"
   ]
  },
  {
   "cell_type": "code",
   "execution_count": 3,
   "metadata": {},
   "outputs": [],
   "source": [
    "# Importando Bibliotecas\n",
    "import requests"
   ]
  },
  {
   "cell_type": "code",
   "execution_count": 4,
   "metadata": {},
   "outputs": [
    {
     "data": {
      "text/plain": [
       "{'Valor_Aluguel': '[6195.70663364]'}"
      ]
     },
     "execution_count": 4,
     "metadata": {},
     "output_type": "execute_result"
    }
   ],
   "source": [
    "# Local da URL\n",
    "url = 'http://localhost:5000/API_Preditivo/300;7;5;4;4;0;0;1100;600'\n",
    "\n",
    "# Acessar a conexão\n",
    "consulta = requests.get( url )\n",
    "\n",
    "# Buscar a info\n",
    "resposta = consulta.json()\n",
    "\n",
    "# Devolução\n",
    "resposta"
   ]
  }
 ],
 "metadata": {
  "kernelspec": {
   "display_name": "Python 3",
   "language": "python",
   "name": "python3"
  },
  "language_info": {
   "codemirror_mode": {
    "name": "ipython",
    "version": 3
   },
   "file_extension": ".py",
   "mimetype": "text/x-python",
   "name": "python",
   "nbconvert_exporter": "python",
   "pygments_lexer": "ipython3",
   "version": "3.10.9"
  },
  "orig_nbformat": 4,
  "vscode": {
   "interpreter": {
    "hash": "1feffa69a5b5786e35d4dec7f12c9865f879a1e714d5c0b4c0986cb4f5da2cfc"
   }
  }
 },
 "nbformat": 4,
 "nbformat_minor": 2
}
