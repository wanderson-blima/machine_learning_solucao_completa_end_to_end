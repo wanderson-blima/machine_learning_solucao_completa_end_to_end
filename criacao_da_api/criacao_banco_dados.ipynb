{
 "cells": [
  {
   "attachments": {},
   "cell_type": "markdown",
   "metadata": {},
   "source": [
    "## Criando um Banco de Dados Para Armazenar os Logs"
   ]
  },
  {
   "cell_type": "code",
   "execution_count": 16,
   "metadata": {},
   "outputs": [],
   "source": [
    "# Importando a Biblioteca\n",
    "import sqlite3\n",
    "import pandas as pd"
   ]
  },
  {
   "cell_type": "code",
   "execution_count": 17,
   "metadata": {},
   "outputs": [],
   "source": [
    "# Criar o Banco de Dados\n",
    "conexao_banco = sqlite3.connect('Banco_Dados_API.db')"
   ]
  },
  {
   "cell_type": "code",
   "execution_count": 18,
   "metadata": {},
   "outputs": [],
   "source": [
    "# Apontar para o banco\n",
    "cursor = conexao_banco.cursor()"
   ]
  },
  {
   "cell_type": "code",
   "execution_count": 19,
   "metadata": {},
   "outputs": [],
   "source": [
    "# # Query --> Criar uma tabela\n",
    "\n",
    "# query_criar_tabela = '''\n",
    "# CREATE TABLE log_api (\n",
    "#     id INTEGER NOT NULL PRIMARY KEY AUTOINCREMENT,\n",
    "#     inputs TEXT,\n",
    "#     incio TEXT,\n",
    "#     fim TEXT,\n",
    "#     processamento TEXT\n",
    "# )\n",
    "# '''\n",
    "colunas = ['id', 'inputs', 'inicio', 'fim', 'processamento']\n",
    "# cursor.execute( query_criar_tabela )"
   ]
  },
  {
   "cell_type": "code",
   "execution_count": 20,
   "metadata": {},
   "outputs": [],
   "source": [
    "# # Query --> Insert manual\n",
    "\n",
    "# query_inserir = '''  \n",
    "# INSERT INTO log_api ( inputs, incio, fim, processamento)\n",
    "# VALUES ( '55;3;2;1;1;0;0;500;84', '07/01/2023 00:10:34', '07/01/2023 00:10:35', '00:01' )\n",
    "# '''\n",
    "\n",
    "# # Executando a query\n",
    "# cursor.execute( query_inserir )\n",
    "\n",
    "# # Commit\n",
    "# conexao_banco.commit()"
   ]
  },
  {
   "cell_type": "code",
   "execution_count": 21,
   "metadata": {},
   "outputs": [
    {
     "data": {
      "text/plain": [
       "[(1,\n",
       "  '55;3;2;1;1;0;0;500;84',\n",
       "  '07/01/2023 00:10:34',\n",
       "  '07/01/2023 00:10:35',\n",
       "  '00:01'),\n",
       " (2,\n",
       "  ';55.0;3.0;2.0;1.0;1.0;0.0;0.0;500.0;84.0;[1801.64978017]',\n",
       "  '2023-01-07 00:49:00.574733',\n",
       "  '2023-01-07 00:49:00.579280',\n",
       "  '0:00:00.004547'),\n",
       " (3,\n",
       "  ';100.0;5.0;3.0;4.0;4.0;2.0;1.0;500.0;600.0;[5515.60868623]',\n",
       "  '2023-01-07 00:49:25.559233',\n",
       "  '2023-01-07 00:49:25.563924',\n",
       "  '0:00:00.004691'),\n",
       " (4,\n",
       "  ';50.0;2.0;1.0;1.0;1.0;0.0;0.0;500.0;600.0;[1996.55484357]',\n",
       "  '2023-01-07 00:52:26.459364',\n",
       "  '2023-01-07 00:52:26.463705',\n",
       "  '0:00:00.004341'),\n",
       " (5,\n",
       "  ';300.0;7.0;5.0;4.0;4.0;0.0;0.0;1100.0;600.0;[6195.70663364]',\n",
       "  '2023-01-07 01:18:50.600630',\n",
       "  '2023-01-07 01:18:50.606118',\n",
       "  '0:00:00.005488')]"
      ]
     },
     "execution_count": 21,
     "metadata": {},
     "output_type": "execute_result"
    }
   ],
   "source": [
    "# Query --> consultar log do banco\n",
    "\n",
    "query_consulta = '''  \n",
    "SELECT * FROM log_api\n",
    "'''\n",
    "\n",
    "# Executando a query\n",
    "cursor.execute( query_consulta ).fetchall()"
   ]
  },
  {
   "cell_type": "code",
   "execution_count": 22,
   "metadata": {},
   "outputs": [
    {
     "data": {
      "text/html": [
       "<div>\n",
       "<style scoped>\n",
       "    .dataframe tbody tr th:only-of-type {\n",
       "        vertical-align: middle;\n",
       "    }\n",
       "\n",
       "    .dataframe tbody tr th {\n",
       "        vertical-align: top;\n",
       "    }\n",
       "\n",
       "    .dataframe thead th {\n",
       "        text-align: right;\n",
       "    }\n",
       "</style>\n",
       "<table border=\"1\" class=\"dataframe\">\n",
       "  <thead>\n",
       "    <tr style=\"text-align: right;\">\n",
       "      <th></th>\n",
       "      <th>id</th>\n",
       "      <th>inputs</th>\n",
       "      <th>inicio</th>\n",
       "      <th>fim</th>\n",
       "      <th>processamento</th>\n",
       "    </tr>\n",
       "  </thead>\n",
       "  <tbody>\n",
       "    <tr>\n",
       "      <th>0</th>\n",
       "      <td>1</td>\n",
       "      <td>55;3;2;1;1;0;0;500;84</td>\n",
       "      <td>07/01/2023 00:10:34</td>\n",
       "      <td>07/01/2023 00:10:35</td>\n",
       "      <td>00:01</td>\n",
       "    </tr>\n",
       "    <tr>\n",
       "      <th>1</th>\n",
       "      <td>2</td>\n",
       "      <td>;55.0;3.0;2.0;1.0;1.0;0.0;0.0;500.0;84.0;[1801...</td>\n",
       "      <td>2023-01-07 00:49:00.574733</td>\n",
       "      <td>2023-01-07 00:49:00.579280</td>\n",
       "      <td>0:00:00.004547</td>\n",
       "    </tr>\n",
       "    <tr>\n",
       "      <th>2</th>\n",
       "      <td>3</td>\n",
       "      <td>;100.0;5.0;3.0;4.0;4.0;2.0;1.0;500.0;600.0;[55...</td>\n",
       "      <td>2023-01-07 00:49:25.559233</td>\n",
       "      <td>2023-01-07 00:49:25.563924</td>\n",
       "      <td>0:00:00.004691</td>\n",
       "    </tr>\n",
       "    <tr>\n",
       "      <th>3</th>\n",
       "      <td>4</td>\n",
       "      <td>;50.0;2.0;1.0;1.0;1.0;0.0;0.0;500.0;600.0;[199...</td>\n",
       "      <td>2023-01-07 00:52:26.459364</td>\n",
       "      <td>2023-01-07 00:52:26.463705</td>\n",
       "      <td>0:00:00.004341</td>\n",
       "    </tr>\n",
       "    <tr>\n",
       "      <th>4</th>\n",
       "      <td>5</td>\n",
       "      <td>;300.0;7.0;5.0;4.0;4.0;0.0;0.0;1100.0;600.0;[6...</td>\n",
       "      <td>2023-01-07 01:18:50.600630</td>\n",
       "      <td>2023-01-07 01:18:50.606118</td>\n",
       "      <td>0:00:00.005488</td>\n",
       "    </tr>\n",
       "  </tbody>\n",
       "</table>\n",
       "</div>"
      ],
      "text/plain": [
       "   id                                             inputs  \\\n",
       "0   1                              55;3;2;1;1;0;0;500;84   \n",
       "1   2  ;55.0;3.0;2.0;1.0;1.0;0.0;0.0;500.0;84.0;[1801...   \n",
       "2   3  ;100.0;5.0;3.0;4.0;4.0;2.0;1.0;500.0;600.0;[55...   \n",
       "3   4  ;50.0;2.0;1.0;1.0;1.0;0.0;0.0;500.0;600.0;[199...   \n",
       "4   5  ;300.0;7.0;5.0;4.0;4.0;0.0;0.0;1100.0;600.0;[6...   \n",
       "\n",
       "                       inicio                         fim   processamento  \n",
       "0         07/01/2023 00:10:34         07/01/2023 00:10:35           00:01  \n",
       "1  2023-01-07 00:49:00.574733  2023-01-07 00:49:00.579280  0:00:00.004547  \n",
       "2  2023-01-07 00:49:25.559233  2023-01-07 00:49:25.563924  0:00:00.004691  \n",
       "3  2023-01-07 00:52:26.459364  2023-01-07 00:52:26.463705  0:00:00.004341  \n",
       "4  2023-01-07 01:18:50.600630  2023-01-07 01:18:50.606118  0:00:00.005488  "
      ]
     },
     "execution_count": 22,
     "metadata": {},
     "output_type": "execute_result"
    }
   ],
   "source": [
    "# Execute the query and fetch the results\n",
    "results = cursor.execute(query_consulta).fetchall()\n",
    "\n",
    "colunas = ['id', 'inputs', 'inicio', 'fim', 'processamento']\n",
    "# Create a DataFrame from the results\n",
    "df = pd.DataFrame(results, columns=colunas)\n",
    "\n",
    "# Print the DataFrame\n",
    "df"
   ]
  }
 ],
 "metadata": {
  "kernelspec": {
   "display_name": "Python 3",
   "language": "python",
   "name": "python3"
  },
  "language_info": {
   "codemirror_mode": {
    "name": "ipython",
    "version": 3
   },
   "file_extension": ".py",
   "mimetype": "text/x-python",
   "name": "python",
   "nbconvert_exporter": "python",
   "pygments_lexer": "ipython3",
   "version": "3.10.9"
  },
  "orig_nbformat": 4,
  "vscode": {
   "interpreter": {
    "hash": "1feffa69a5b5786e35d4dec7f12c9865f879a1e714d5c0b4c0986cb4f5da2cfc"
   }
  }
 },
 "nbformat": 4,
 "nbformat_minor": 2
}
